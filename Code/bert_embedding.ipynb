{
 "cells": [
  {
   "cell_type": "code",
   "execution_count": 11,
   "metadata": {},
   "outputs": [],
   "source": [
    "import pickle\n",
    "import pandas as pd\n",
    "import time\n",
    "\n",
    "with open('../Data/sentences.pkl','rb') as f:\n",
    "    data = pickle.load(f)"
   ]
  },
  {
   "cell_type": "code",
   "execution_count": 2,
   "metadata": {},
   "outputs": [
    {
     "name": "stdout",
     "output_type": "stream",
     "text": [
      "0 -th datapoint,  0.0002913475036621094 secs\n",
      "100 -th datapoint,  336.21279287338257 secs\n",
      "200 -th datapoint,  656.5393681526184 secs\n",
      "300 -th datapoint,  979.8999695777893 secs\n",
      "400 -th datapoint,  1326.1234412193298 secs\n",
      "500 -th datapoint,  1621.8331515789032 secs\n",
      "600 -th datapoint,  1924.5851953029633 secs\n",
      "700 -th datapoint,  2262.104348897934 secs\n",
      "800 -th datapoint,  2574.7056999206543 secs\n",
      "900 -th datapoint,  2883.165173768997 secs\n",
      "1000 -th datapoint,  3180.109519004822 secs\n",
      "1100 -th datapoint,  3451.6456348896027 secs\n",
      "1200 -th datapoint,  3729.9185767173767 secs\n",
      "1300 -th datapoint,  4025.1185886859894 secs\n",
      "1400 -th datapoint,  4338.335189819336 secs\n",
      "1500 -th datapoint,  4638.078355789185 secs\n",
      "1600 -th datapoint,  4930.5000104904175 secs\n",
      "1700 -th datapoint,  5256.641770362854 secs\n",
      "1800 -th datapoint,  5587.325923919678 secs\n",
      "1900 -th datapoint,  5882.546883583069 secs\n",
      "2000 -th datapoint,  6338.368659734726 secs\n",
      "2100 -th datapoint,  6721.4490756988525 secs\n",
      "2200 -th datapoint,  7089.490655183792 secs\n",
      "2300 -th datapoint,  7481.047630548477 secs\n",
      "2400 -th datapoint,  7843.941571235657 secs\n"
     ]
    }
   ],
   "source": [
    "from bert_serving.client import BertClient\n",
    "bc = BertClient(check_length = False)\n",
    "vectors = []\n",
    "sentences = []\n",
    "now = time.time()\n",
    "\n",
    "for i,s in enumerate(data['transcript_sent']):    \n",
    "    if i%100==0: \n",
    "        print(i,'-th datapoint, ',time.time()-now, 'secs' )\n",
    "    vectors.append(bc.encode(s))"
   ]
  },
  {
   "cell_type": "code",
   "execution_count": 16,
   "metadata": {},
   "outputs": [],
   "source": [
    "data['vectors'] = vectors"
   ]
  },
  {
   "cell_type": "code",
   "execution_count": 18,
   "metadata": {},
   "outputs": [],
   "source": [
    "df = pd.DataFrame(data)"
   ]
  },
  {
   "cell_type": "code",
   "execution_count": 19,
   "metadata": {},
   "outputs": [
    {
     "data": {
      "text/html": [
       "<div>\n",
       "<style scoped>\n",
       "    .dataframe tbody tr th:only-of-type {\n",
       "        vertical-align: middle;\n",
       "    }\n",
       "\n",
       "    .dataframe tbody tr th {\n",
       "        vertical-align: top;\n",
       "    }\n",
       "\n",
       "    .dataframe thead th {\n",
       "        text-align: right;\n",
       "    }\n",
       "</style>\n",
       "<table border=\"1\" class=\"dataframe\">\n",
       "  <thead>\n",
       "    <tr style=\"text-align: right;\">\n",
       "      <th></th>\n",
       "      <th>title</th>\n",
       "      <th>id</th>\n",
       "      <th>transcript_sent</th>\n",
       "      <th>vectors</th>\n",
       "    </tr>\n",
       "  </thead>\n",
       "  <tbody>\n",
       "    <tr>\n",
       "      <th>0</th>\n",
       "      <td>Averting the climate crisis</td>\n",
       "      <td>1</td>\n",
       "      <td>[thank you so much, chris., and it's truly a g...</td>\n",
       "      <td>[[0.13352086, -0.28278047, 0.57114553, -0.1171...</td>\n",
       "    </tr>\n",
       "    <tr>\n",
       "      <th>1</th>\n",
       "      <td>The killer American diet that's sweeping the p...</td>\n",
       "      <td>10</td>\n",
       "      <td>[with all the legitimate concerns about aids a...</td>\n",
       "      <td>[[0.31514728, -0.042955443, 0.35987884, -0.010...</td>\n",
       "    </tr>\n",
       "    <tr>\n",
       "      <th>2</th>\n",
       "      <td>Re-engineering the brain</td>\n",
       "      <td>1000</td>\n",
       "      <td>[i have a doppelganger., (laughter) dr. gero i...</td>\n",
       "      <td>[[0.08765383, -0.12240668, 0.4425363, -0.06216...</td>\n",
       "    </tr>\n",
       "    <tr>\n",
       "      <th>3</th>\n",
       "      <td>A one-man orchestra of the imagination</td>\n",
       "      <td>1001</td>\n",
       "      <td>[well, there's lots to talk about, but i think...</td>\n",
       "      <td>[[0.38668334, -0.12121019, 0.54540074, -0.0155...</td>\n",
       "    </tr>\n",
       "    <tr>\n",
       "      <th>4</th>\n",
       "      <td>Teaching design for change</td>\n",
       "      <td>1002</td>\n",
       "      <td>[so this is a story of a place that i now call...</td>\n",
       "      <td>[[0.10844261, 0.17110501, 0.49333915, -0.11127...</td>\n",
       "    </tr>\n",
       "  </tbody>\n",
       "</table>\n",
       "</div>"
      ],
      "text/plain": [
       "                                               title    id  \\\n",
       "0                        Averting the climate crisis     1   \n",
       "1  The killer American diet that's sweeping the p...    10   \n",
       "2                           Re-engineering the brain  1000   \n",
       "3             A one-man orchestra of the imagination  1001   \n",
       "4                         Teaching design for change  1002   \n",
       "\n",
       "                                     transcript_sent  \\\n",
       "0  [thank you so much, chris., and it's truly a g...   \n",
       "1  [with all the legitimate concerns about aids a...   \n",
       "2  [i have a doppelganger., (laughter) dr. gero i...   \n",
       "3  [well, there's lots to talk about, but i think...   \n",
       "4  [so this is a story of a place that i now call...   \n",
       "\n",
       "                                             vectors  \n",
       "0  [[0.13352086, -0.28278047, 0.57114553, -0.1171...  \n",
       "1  [[0.31514728, -0.042955443, 0.35987884, -0.010...  \n",
       "2  [[0.08765383, -0.12240668, 0.4425363, -0.06216...  \n",
       "3  [[0.38668334, -0.12121019, 0.54540074, -0.0155...  \n",
       "4  [[0.10844261, 0.17110501, 0.49333915, -0.11127...  "
      ]
     },
     "execution_count": 19,
     "metadata": {},
     "output_type": "execute_result"
    }
   ],
   "source": [
    "df.head()\n"
   ]
  },
  {
   "cell_type": "code",
   "execution_count": 17,
   "metadata": {},
   "outputs": [
    {
     "data": {
      "text/plain": [
       "dict_keys(['title', 'id', 'transcript_sent', 'vectors'])"
      ]
     },
     "execution_count": 17,
     "metadata": {},
     "output_type": "execute_result"
    }
   ],
   "source": [
    "data.keys()"
   ]
  },
  {
   "cell_type": "code",
   "execution_count": 15,
   "metadata": {},
   "outputs": [
    {
     "data": {
      "text/plain": [
       "2480"
      ]
     },
     "execution_count": 15,
     "metadata": {},
     "output_type": "execute_result"
    }
   ],
   "source": [
    "len(vectors)"
   ]
  },
  {
   "cell_type": "code",
   "execution_count": null,
   "metadata": {},
   "outputs": [],
   "source": []
  }
 ],
 "metadata": {
  "kernelspec": {
   "display_name": "Python 3",
   "language": "python",
   "name": "python3"
  },
  "language_info": {
   "codemirror_mode": {
    "name": "ipython",
    "version": 3
   },
   "file_extension": ".py",
   "mimetype": "text/x-python",
   "name": "python",
   "nbconvert_exporter": "python",
   "pygments_lexer": "ipython3",
   "version": "3.7.3"
  }
 },
 "nbformat": 4,
 "nbformat_minor": 2
}
