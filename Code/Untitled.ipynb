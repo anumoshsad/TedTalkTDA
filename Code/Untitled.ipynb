{
 "cells": [
  {
   "cell_type": "code",
   "execution_count": 2,
   "metadata": {},
   "outputs": [],
   "source": [
    "import gudhi"
   ]
  },
  {
   "cell_type": "code",
   "execution_count": 3,
   "metadata": {},
   "outputs": [
    {
     "name": "stdout",
     "output_type": "stream",
     "text": [
      "#####################################################################\n",
      "RipsComplex creation from points\n",
      "diag= [(0, (0.0, inf)), (0, (0.0, 1.0)), (0, (0.0, 1.0)), (0, (0.0, 1.0))]\n"
     ]
    },
    {
     "data": {
      "image/png": "[encoded data removed]",
      "text/plain": [
       "<Figure size 432x288 with 1 Axes>"
      ]
     },
     "metadata": {
      "needs_background": "light"
     },
     "output_type": "display_data"
    }
   ],
   "source": [
    "#!/usr/bin/env python\n",
    "\n",
    "import gudhi\n",
    "\n",
    "\"\"\"This file is part of the Gudhi Library. The Gudhi library\n",
    "   (Geometric Understanding in Higher Dimensions) is a generic C++\n",
    "   library for computational topology.\n",
    "\n",
    "   Author(s):       Marc Glisse\n",
    "\n",
    "   Copyright (C) 2016 Inria\n",
    "\n",
    "   This program is free software: you can redistribute it and/or modify\n",
    "   it under the terms of the GNU General Public License as published by\n",
    "   the Free Software Foundation, either version 3 of the License, or\n",
    "   (at your option) any later version.\n",
    "\n",
    "   This program is distributed in the hope that it will be useful,\n",
    "   but WITHOUT ANY WARRANTY; without even the implied warranty of\n",
    "   MERCHANTABILITY or FITNESS FOR A PARTICULAR PURPOSE.  See the\n",
    "   GNU General Public License for more details.\n",
    "\n",
    "   You should have received a copy of the GNU General Public License\n",
    "   along with this program.  If not, see <http://www.gnu.org/licenses/>.\n",
    "\"\"\"\n",
    "\n",
    "__author__ = \"Marc Glisse\"\n",
    "__copyright__ = \"Copyright (C) 2016 Inria\"\n",
    "__license__ = \"GPL v3\"\n",
    "\n",
    "print(\"#####################################################################\")\n",
    "print(\"RipsComplex creation from points\")\n",
    "rips = gudhi.RipsComplex(points=[[0, 0], [1, 0], [0, 1], [1, 1]],\n",
    "                         max_edge_length=42)\n",
    "\n",
    "simplex_tree = rips.create_simplex_tree(max_dimension=1)\n",
    "\n",
    "\n",
    "diag = simplex_tree.persistence(homology_coeff_field=2, min_persistence=0)\n",
    "print(\"diag=\", diag)\n",
    "\n",
    "pplot = gudhi.plot_persistence_diagram(diag)\n",
    "pplot.show()\n"
   ]
  },
  {
   "cell_type": "code",
   "execution_count": 4,
   "metadata": {},
   "outputs": [
    {
     "name": "stdout",
     "output_type": "stream",
     "text": [
      "/Users/Shouman/Library/Jupyter/runtime/kernel-032bb3a4-35bf-4956-9027-6cc3777e4f85.json is not a valid OFF file\n"
     ]
    }
   ],
   "source": [
    "#!/usr/bin/env python\n",
    "\n",
    "import gudhi\n",
    "import argparse\n",
    "\n",
    "\"\"\"This file is part of the Gudhi Library. The Gudhi library\n",
    "   (Geometric Understanding in Higher Dimensions) is a generic C++\n",
    "   library for computational topology.\n",
    "\n",
    "   Author(s):       Vincent Rouvreau\n",
    "\n",
    "   Copyright (C) 2016 Inria\n",
    "\n",
    "   This program is free software: you can redistribute it and/or modify\n",
    "   it under the terms of the GNU General Public License as published by\n",
    "   the Free Software Foundation, either version 3 of the License, or\n",
    "   (at your option) any later version.\n",
    "\n",
    "   This program is distributed in the hope that it will be useful,\n",
    "   but WITHOUT ANY WARRANTY; without even the implied warranty of\n",
    "   MERCHANTABILITY or FITNESS FOR A PARTICULAR PURPOSE.  See the\n",
    "   GNU General Public License for more details.\n",
    "\n",
    "   You should have received a copy of the GNU General Public License\n",
    "   along with this program.  If not, see <http://www.gnu.org/licenses/>.\n",
    "\"\"\"\n",
    "\n",
    "__author__ = \"Vincent Rouvreau\"\n",
    "__copyright__ = \"Copyright (C) 2016 Inria\"\n",
    "__license__ = \"GPL v3\"\n",
    "\n",
    "parser = argparse.ArgumentParser(description='RipsComplex creation from '\n",
    "                                 'points read in a OFF file.',\n",
    "                                 epilog='Example: '\n",
    "                                 'example/rips_complex_diagram_persistence_from_off_file_example.py '\n",
    "                                 '-f ../data/points/tore3D_300.off -a 0.6'\n",
    "                                 '- Constructs a Rips complex with the '\n",
    "                                 'points from the given OFF file.')\n",
    "parser.add_argument(\"-f\", \"--file\", type=str, required=True)\n",
    "parser.add_argument(\"-e\", \"--max_edge_length\", type=float, default=0.5)\n",
    "parser.add_argument(\"-d\", \"--max_dimension\", type=int, default=1)\n",
    "parser.add_argument(\"-b\", \"--band\", type=float, default=0.)\n",
    "parser.add_argument('--no-diagram', default=False, action='store_true' , help='Flag for not to display the diagrams')\n",
    "\n",
    "args = parser.parse_args()\n",
    "\n",
    "with open(args.file, 'r') as f:\n",
    "    first_line = f.readline()\n",
    "    if (first_line == 'OFF\\n') or (first_line == 'nOFF\\n'):\n",
    "        print(\"#####################################################################\")\n",
    "        print(\"RipsComplex creation from points read in a OFF file\")\n",
    "        \n",
    "        message = \"RipsComplex with max_edge_length=\" + repr(args.max_edge_length)\n",
    "        print(message)\n",
    "        \n",
    "        point_cloud = gudhi.read_off(off_file=args.file)\n",
    "        rips_complex = gudhi.RipsComplex(points=point_cloud, max_edge_length=args.max_edge_length)\n",
    "        simplex_tree = rips_complex.create_simplex_tree(max_dimension=args.max_dimension)\n",
    "    \n",
    "        message = \"Number of simplices=\" + repr(simplex_tree.num_simplices())\n",
    "        print(message)\n",
    "        \n",
    "        diag = simplex_tree.persistence()\n",
    "    \n",
    "        print(\"betti_numbers()=\")\n",
    "        print(simplex_tree.betti_numbers())\n",
    "    \n",
    "        if args.no_diagram == False:\n",
    "            pplot = gudhi.plot_persistence_diagram(diag, band=args.band)\n",
    "            pplot.show()\n",
    "    else:\n",
    "        print(args.file, \"is not a valid OFF file\")\n",
    "\n",
    "    f.close()\n"
   ]
  },
  {
   "cell_type": "code",
   "execution_count": null,
   "metadata": {},
   "outputs": [],
   "source": []
  }
 ],
 "metadata": {
  "kernelspec": {
   "display_name": "Python 3",
   "language": "python",
   "name": "python3"
  },
  "language_info": {
   "codemirror_mode": {
    "name": "ipython",
    "version": 3
   },
   "file_extension": ".py",
   "mimetype": "text/x-python",
   "name": "python",
   "nbconvert_exporter": "python",
   "pygments_lexer": "ipython3",
   "version": "3.7.3"
  }
 },
 "nbformat": 4,
 "nbformat_minor": 2
}
